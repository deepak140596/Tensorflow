{
 "cells": [
  {
   "cell_type": "code",
   "execution_count": 1,
   "metadata": {},
   "outputs": [],
   "source": [
    "### Linear Regression\n",
    "\n",
    "## predict house prices"
   ]
  },
  {
   "cell_type": "code",
   "execution_count": 2,
   "metadata": {},
   "outputs": [],
   "source": [
    "# Import statements\n",
    "import tensorflow as tf\n",
    "from tensorflow import keras\n",
    "import numpy as np\n",
    "import matplotlib.pyplot as plt\n"
   ]
  },
  {
   "cell_type": "code",
   "execution_count": 3,
   "metadata": {},
   "outputs": [
    {
     "name": "stdout",
     "output_type": "stream",
     "text": [
      "Downloading data from https://s3.amazonaws.com/keras-datasets/boston_housing.npz\n",
      "57344/57026 [==============================] - 2s 37us/step\n"
     ]
    }
   ],
   "source": [
    "## The Boston Housing Prices dataset\n",
    "\n",
    "#get dataset\n",
    "boston_housing = keras.datasets.boston_housing\n",
    "(train_data,train_labels),(test_data,test_labels) = boston_housing.load_data()"
   ]
  },
  {
   "cell_type": "code",
   "execution_count": 4,
   "metadata": {},
   "outputs": [],
   "source": [
    "#Shuffle the training set\n",
    "order = np.argsort(np.random.random(train_labels.shape))\n",
    "train_data = train_data[order]\n",
    "train_labels= train_labels[order]"
   ]
  },
  {
   "cell_type": "code",
   "execution_count": 5,
   "metadata": {},
   "outputs": [
    {
     "data": {
      "text/plain": [
       "array([[7.87500e-02, 4.50000e+01, 3.44000e+00, ..., 1.52000e+01,\n",
       "        3.93870e+02, 6.68000e+00],\n",
       "       [4.55587e+00, 0.00000e+00, 1.81000e+01, ..., 2.02000e+01,\n",
       "        3.54700e+02, 7.12000e+00],\n",
       "       [9.60400e-02, 4.00000e+01, 6.41000e+00, ..., 1.76000e+01,\n",
       "        3.96900e+02, 2.98000e+00],\n",
       "       ...,\n",
       "       [4.07710e-01, 0.00000e+00, 6.20000e+00, ..., 1.74000e+01,\n",
       "        3.95240e+02, 2.14600e+01],\n",
       "       [6.66400e-02, 0.00000e+00, 4.05000e+00, ..., 1.66000e+01,\n",
       "        3.90960e+02, 5.33000e+00],\n",
       "       [7.02259e+00, 0.00000e+00, 1.81000e+01, ..., 2.02000e+01,\n",
       "        3.19980e+02, 1.57000e+01]])"
      ]
     },
     "execution_count": 5,
     "metadata": {},
     "output_type": "execute_result"
    }
   ],
   "source": [
    "train_data"
   ]
  },
  {
   "cell_type": "code",
   "execution_count": 6,
   "metadata": {},
   "outputs": [
    {
     "data": {
      "text/plain": [
       "array([32. , 27.5, 32. , 23.1, 50. , 20.6, 22.6, 36.2, 21.8, 19.5, 15. ,\n",
       "       15.6, 50. , 30.1, 12.5, 22.2, 26.5, 50. ,  8.3, 16.5, 17.8, 15.7,\n",
       "       19.3, 26.6, 29. , 15.6, 18.7, 24.1, 13.3,  8.5, 19.5, 13.1, 11.7,\n",
       "       25. , 24.8, 20.6, 12.1, 19.6, 25. , 22.7, 14.6, 17.1, 50. , 22.6,\n",
       "       13.1, 20.6, 18.4, 24.8, 25. , 18.1, 16.8, 16.1, 24.4, 18.5, 21. ,\n",
       "       19.1, 16.1, 18.2, 15.3, 20.4, 17.8, 23. ,  7.2, 16.7, 33.4, 13.8,\n",
       "       43.8, 28.6, 18.3, 18.7, 17.3, 19.4, 11.9, 20.6, 23.7, 50. , 22.6,\n",
       "       25.3, 24.8, 18.7, 21.7, 20.6, 23.2, 26.4, 33.2, 15.2, 41.3, 23.9,\n",
       "       31. , 13.4, 23.9, 14.9, 22.8, 28. , 20.4, 12.8, 20.6, 21.4, 14.8,\n",
       "       15.6, 30.1, 11. , 25. , 11.7, 16.3, 33.4, 22.9, 29.1, 21. , 31.1,\n",
       "       19.3, 23.4, 28.7, 16. , 23.2, 17.2, 26.6, 17.8, 22.3, 20.8, 25.2,\n",
       "       28.5, 23.3, 20.1, 19.3, 19.4, 12.7, 37.3, 13.9, 19.6, 12.7, 15.6,\n",
       "       32.2, 12.6,  7.5, 23.7, 22.8, 22.2, 44.8, 36.5, 31.6, 22.9, 14.4,\n",
       "       14.3,  5. , 19.1, 22.5, 10.9, 23. , 21.4,  8.8, 17.9, 17.5, 11.9,\n",
       "       19.3,  8.5, 12.7, 41.7, 19.6, 17.4, 21.4, 23.1, 28.2, 18.2, 16.5,\n",
       "       26.2, 13.6, 22.5, 24.4, 18. , 20. , 19.9, 14.9, 50. , 20. , 23.1,\n",
       "       13.4,  8.4, 19.4, 50. , 23.9, 22. , 12.3, 27.9, 20.4, 20.4, 33.3,\n",
       "       22. , 24.6, 13.3, 14.6, 33.2, 18.5, 24.7, 19.8, 19.4, 24.7, 19.5,\n",
       "       22. , 16.2, 45.4, 13.5, 17.1, 22.4, 22. , 15.2, 14.9, 25. , 28.7,\n",
       "       16.8, 29.9, 32.7, 21.1, 21.7, 22.1, 11.8, 11.8, 11.5, 22.2, 33.1,\n",
       "       10.9, 48.3, 50. , 22.5, 13.3, 23.1, 19.2, 43.5, 29.1, 20.2, 23.9,\n",
       "        5. ,  7. , 22.8, 29. , 11.3, 24. , 23.3, 21.7, 10.4, 50. , 16.4,\n",
       "       24.4, 21.2, 42.3,  8.3, 14. , 17.8, 23.7, 23.1,  8.4, 22.9, 21.6,\n",
       "       13.9, 18.4, 23.6, 20.1, 15.6, 20.5, 14.5, 17.4, 23. , 50. , 19.1,\n",
       "       19.7, 34.7, 21. , 27.9, 24.5, 21.4, 24.8, 22.2, 18.4, 16.1, 10.5,\n",
       "       30.5, 13.5, 34.9, 21.9, 31.5, 19.5, 19.2, 17.1, 24. , 13.8, 20.8,\n",
       "       21.2, 18.9,  8.7, 10.2, 19.9, 13.1, 28.7, 23.8, 20.3, 17.2, 29.8,\n",
       "       19.7, 34.6, 14.3, 46. , 30.8, 18.8, 35.2, 48.8, 37.9, 18.3,  8.8,\n",
       "       17. , 39.8, 31.7, 19.4, 15. , 18.2, 13.8, 23.8, 24.7, 13.8, 50. ,\n",
       "       23.3, 24.3, 24.4, 10.4, 33.8, 38.7, 30.7, 25.1, 23.7, 48.5, 20.3,\n",
       "       13.4, 15.2, 17.4, 19.6, 18.9, 15. , 23.9, 37.6, 36.2, 14.1, 17.2,\n",
       "       22.6, 20.5,  6.3, 21.2, 31.5, 22.6, 21.1, 13.8, 20.7, 24.1,  9.6,\n",
       "       10.5, 44. , 13.6, 32.9, 13.4, 23.3, 23.6, 37. , 19.3, 50. , 23.5,\n",
       "       18.9, 17.5, 19.4, 20.1, 37.2, 19.9, 21.7, 30.3, 23.1, 36.1, 24.6,\n",
       "       22. , 23.8, 16.7, 20.3, 18.5, 13.2, 50. , 36.4, 16.6, 21.7, 17.5,\n",
       "       34.9, 22.8, 27.1, 22.3, 17.7, 19.9, 20.7, 10.8, 20. , 27.5, 21.8,\n",
       "       31.6, 20. , 14.4, 15.1, 19. , 21.7, 29.4, 14.2])"
      ]
     },
     "execution_count": 6,
     "metadata": {},
     "output_type": "execute_result"
    }
   ],
   "source": [
    "train_labels"
   ]
  },
  {
   "cell_type": "code",
   "execution_count": 7,
   "metadata": {},
   "outputs": [
    {
     "name": "stdout",
     "output_type": "stream",
     "text": [
      "Training set: (404, 13)\n",
      "Testing set: (102, 13)\n"
     ]
    }
   ],
   "source": [
    "## Examples and features\n",
    "print(\"Training set: {}\".format(train_data.shape))\n",
    "# 404 examples, 13 features\n",
    "print(\"Testing set: {}\".format(test_data.shape))\n",
    "# 102 examples, 13 features"
   ]
  },
  {
   "cell_type": "code",
   "execution_count": 8,
   "metadata": {},
   "outputs": [
    {
     "name": "stdout",
     "output_type": "stream",
     "text": [
      "[7.8750e-02 4.5000e+01 3.4400e+00 0.0000e+00 4.3700e-01 6.7820e+00\n",
      " 4.1100e+01 3.7886e+00 5.0000e+00 3.9800e+02 1.5200e+01 3.9387e+02\n",
      " 6.6800e+00]\n"
     ]
    }
   ],
   "source": [
    "print(train_data[0])\n"
   ]
  },
  {
   "cell_type": "code",
   "execution_count": 9,
   "metadata": {},
   "outputs": [],
   "source": [
    "## Use pandas to display few rows nicely"
   ]
  },
  {
   "cell_type": "code",
   "execution_count": 11,
   "metadata": {},
   "outputs": [
    {
     "data": {
      "text/html": [
       "<div>\n",
       "<style scoped>\n",
       "    .dataframe tbody tr th:only-of-type {\n",
       "        vertical-align: middle;\n",
       "    }\n",
       "\n",
       "    .dataframe tbody tr th {\n",
       "        vertical-align: top;\n",
       "    }\n",
       "\n",
       "    .dataframe thead th {\n",
       "        text-align: right;\n",
       "    }\n",
       "</style>\n",
       "<table border=\"1\" class=\"dataframe\">\n",
       "  <thead>\n",
       "    <tr style=\"text-align: right;\">\n",
       "      <th></th>\n",
       "      <th>CRIM</th>\n",
       "      <th>ZN</th>\n",
       "      <th>INDUS</th>\n",
       "      <th>CHAS</th>\n",
       "      <th>NOX</th>\n",
       "      <th>RM</th>\n",
       "      <th>AGE</th>\n",
       "      <th>DIS</th>\n",
       "      <th>RAD</th>\n",
       "      <th>TAX</th>\n",
       "      <th>PTRATIO</th>\n",
       "      <th>B</th>\n",
       "      <th>LSTAT</th>\n",
       "    </tr>\n",
       "  </thead>\n",
       "  <tbody>\n",
       "    <tr>\n",
       "      <th>0</th>\n",
       "      <td>0.07875</td>\n",
       "      <td>45.0</td>\n",
       "      <td>3.44</td>\n",
       "      <td>0.0</td>\n",
       "      <td>0.437</td>\n",
       "      <td>6.782</td>\n",
       "      <td>41.1</td>\n",
       "      <td>3.7886</td>\n",
       "      <td>5.0</td>\n",
       "      <td>398.0</td>\n",
       "      <td>15.2</td>\n",
       "      <td>393.87</td>\n",
       "      <td>6.68</td>\n",
       "    </tr>\n",
       "    <tr>\n",
       "      <th>1</th>\n",
       "      <td>4.55587</td>\n",
       "      <td>0.0</td>\n",
       "      <td>18.10</td>\n",
       "      <td>0.0</td>\n",
       "      <td>0.718</td>\n",
       "      <td>3.561</td>\n",
       "      <td>87.9</td>\n",
       "      <td>1.6132</td>\n",
       "      <td>24.0</td>\n",
       "      <td>666.0</td>\n",
       "      <td>20.2</td>\n",
       "      <td>354.70</td>\n",
       "      <td>7.12</td>\n",
       "    </tr>\n",
       "    <tr>\n",
       "      <th>2</th>\n",
       "      <td>0.09604</td>\n",
       "      <td>40.0</td>\n",
       "      <td>6.41</td>\n",
       "      <td>0.0</td>\n",
       "      <td>0.447</td>\n",
       "      <td>6.854</td>\n",
       "      <td>42.8</td>\n",
       "      <td>4.2673</td>\n",
       "      <td>4.0</td>\n",
       "      <td>254.0</td>\n",
       "      <td>17.6</td>\n",
       "      <td>396.90</td>\n",
       "      <td>2.98</td>\n",
       "    </tr>\n",
       "    <tr>\n",
       "      <th>3</th>\n",
       "      <td>0.01870</td>\n",
       "      <td>85.0</td>\n",
       "      <td>4.15</td>\n",
       "      <td>0.0</td>\n",
       "      <td>0.429</td>\n",
       "      <td>6.516</td>\n",
       "      <td>27.7</td>\n",
       "      <td>8.5353</td>\n",
       "      <td>4.0</td>\n",
       "      <td>351.0</td>\n",
       "      <td>17.9</td>\n",
       "      <td>392.43</td>\n",
       "      <td>6.36</td>\n",
       "    </tr>\n",
       "    <tr>\n",
       "      <th>4</th>\n",
       "      <td>0.52693</td>\n",
       "      <td>0.0</td>\n",
       "      <td>6.20</td>\n",
       "      <td>0.0</td>\n",
       "      <td>0.504</td>\n",
       "      <td>8.725</td>\n",
       "      <td>83.0</td>\n",
       "      <td>2.8944</td>\n",
       "      <td>8.0</td>\n",
       "      <td>307.0</td>\n",
       "      <td>17.4</td>\n",
       "      <td>382.00</td>\n",
       "      <td>4.63</td>\n",
       "    </tr>\n",
       "  </tbody>\n",
       "</table>\n",
       "</div>"
      ],
      "text/plain": [
       "      CRIM    ZN  INDUS  CHAS    NOX     RM   AGE     DIS   RAD    TAX  \\\n",
       "0  0.07875  45.0   3.44   0.0  0.437  6.782  41.1  3.7886   5.0  398.0   \n",
       "1  4.55587   0.0  18.10   0.0  0.718  3.561  87.9  1.6132  24.0  666.0   \n",
       "2  0.09604  40.0   6.41   0.0  0.447  6.854  42.8  4.2673   4.0  254.0   \n",
       "3  0.01870  85.0   4.15   0.0  0.429  6.516  27.7  8.5353   4.0  351.0   \n",
       "4  0.52693   0.0   6.20   0.0  0.504  8.725  83.0  2.8944   8.0  307.0   \n",
       "\n",
       "   PTRATIO       B  LSTAT  \n",
       "0     15.2  393.87   6.68  \n",
       "1     20.2  354.70   7.12  \n",
       "2     17.6  396.90   2.98  \n",
       "3     17.9  392.43   6.36  \n",
       "4     17.4  382.00   4.63  "
      ]
     },
     "execution_count": 11,
     "metadata": {},
     "output_type": "execute_result"
    }
   ],
   "source": [
    "import pandas as pd\n",
    "\n",
    "column_names = ['CRIM','ZN','INDUS','CHAS','NOX',\n",
    "               'RM','AGE','DIS','RAD','TAX','PTRATIO',\n",
    "               'B','LSTAT']\n",
    "df = pd.DataFrame(train_data,columns=column_names)\n",
    "df.head()"
   ]
  },
  {
   "cell_type": "code",
   "execution_count": 12,
   "metadata": {},
   "outputs": [
    {
     "name": "stdout",
     "output_type": "stream",
     "text": [
      "[32.  27.5 32.  23.1 50.  20.6 22.6 36.2 21.8 19.5]\n"
     ]
    }
   ],
   "source": [
    "# Labels\n",
    "print(train_labels[0:10]) #display first 10 entries"
   ]
  },
  {
   "cell_type": "code",
   "execution_count": 13,
   "metadata": {},
   "outputs": [
    {
     "name": "stdout",
     "output_type": "stream",
     "text": [
      "[-0.39725269  1.41205707 -1.12664623 -0.25683275 -1.027385    0.72635358\n",
      " -1.00016413  0.02383449 -0.51114231 -0.04753316 -1.49067405  0.41584124\n",
      " -0.83648691]\n"
     ]
    }
   ],
   "source": [
    "## Normalize features\n",
    "# for each feature , subract the mean and divide by standard deviation\n",
    "\n",
    "mean = train_data.mean(axis=0)\n",
    "std = train_data.std(axis=0)\n",
    "train_data = (train_data-mean)/std\n",
    "test_data = (test_data - mean)/std\n",
    "\n",
    "print(train_data[0])"
   ]
  },
  {
   "cell_type": "code",
   "execution_count": 14,
   "metadata": {},
   "outputs": [],
   "source": [
    "## Create the model\n",
    "\n",
    "def build_model():\n",
    "    model = keras.Sequential([\n",
    "        keras.layers.Dense(64, activation=tf.nn.relu,\n",
    "                          input_shape=(train_data.shape[1],)),\n",
    "        keras.layers.Dense(64,activation=tf.nn.relu),\n",
    "        keras.layers.Dense(1)\n",
    "    ])\n",
    "    \n",
    "    optimizer = tf.train.RMSPropOptimizer(0.001)\n",
    "    model.compile(loss='mse',\n",
    "                 optimizer=optimizer,\n",
    "                 metrics = ['mae'])\n",
    "    return model\n",
    "\n"
   ]
  },
  {
   "cell_type": "code",
   "execution_count": 16,
   "metadata": {},
   "outputs": [],
   "source": [
    "model  =build_model()"
   ]
  },
  {
   "cell_type": "code",
   "execution_count": 17,
   "metadata": {},
   "outputs": [
    {
     "name": "stdout",
     "output_type": "stream",
     "text": [
      "_________________________________________________________________\n",
      "Layer (type)                 Output Shape              Param #   \n",
      "=================================================================\n",
      "dense (Dense)                (None, 64)                896       \n",
      "_________________________________________________________________\n",
      "dense_1 (Dense)              (None, 64)                4160      \n",
      "_________________________________________________________________\n",
      "dense_2 (Dense)              (None, 1)                 65        \n",
      "=================================================================\n",
      "Total params: 5,121\n",
      "Trainable params: 5,121\n",
      "Non-trainable params: 0\n",
      "_________________________________________________________________\n"
     ]
    }
   ],
   "source": [
    "model.summary()"
   ]
  },
  {
   "cell_type": "code",
   "execution_count": 18,
   "metadata": {},
   "outputs": [
    {
     "name": "stdout",
     "output_type": "stream",
     "text": [
      "\n",
      "....................................................................................................\n",
      "....................................................................................................\n",
      "....................................................................................................\n",
      "....................................................................................................\n",
      "...................................................................................................."
     ]
    }
   ],
   "source": [
    "## Train the model\n",
    "\n",
    "# Display training progress by printing a single dot\n",
    "# for each completed epoch\n",
    "\n",
    "class PrintDot(keras.callbacks.Callback):\n",
    "   def on_epoch_end(self,epoch,logs):\n",
    "    if epoch % 100 == 0: print('')\n",
    "    print('.',end='')\n",
    "EPOCHS = 500\n",
    "\n",
    "# store training stats\n",
    "history = model.fit(train_data, train_labels, epochs=EPOCHS,\n",
    "                    validation_split=0.2, verbose=0,\n",
    "                    callbacks= [PrintDot()])\n"
   ]
  },
  {
   "cell_type": "code",
   "execution_count": 19,
   "metadata": {},
   "outputs": [
    {
     "data": {
      "image/png": "[encoded data removed]",
      "text/plain": [
       "<Figure size 432x288 with 1 Axes>"
      ]
     },
     "metadata": {},
     "output_type": "display_data"
    }
   ],
   "source": [
    "## Display graphically\n",
    "\n",
    "def plot_history(history):\n",
    "    plt.figure()\n",
    "    plt.xlabel('Epochs')\n",
    "    plt.ylabel('Mean Abs Error [1000$]')\n",
    "    plt.plot(history.epoch, np.array(history.history['mean_absolute_error']),\n",
    "            label='Train Loss')\n",
    "    plt.plot(history.epoch, np.array(history.history['val_mean_absolute_error']),\n",
    "            label='Val loss')\n",
    "    plt.legend()\n",
    "    plt.ylim([0,5])\n",
    "plot_history(history)\n"
   ]
  },
  {
   "cell_type": "code",
   "execution_count": 20,
   "metadata": {},
   "outputs": [
    {
     "name": "stdout",
     "output_type": "stream",
     "text": [
      "\n",
      "....................................................................................................\n",
      "......................................................"
     ]
    },
    {
     "data": {
      "image/png": "[encoded data removed]",
      "text/plain": [
       "<Figure size 432x288 with 1 Axes>"
      ]
     },
     "metadata": {},
     "output_type": "display_data"
    }
   ],
   "source": [
    "model= build_model()\n",
    "\n",
    "# the patience parameter is the amoutn of epochs to check for improvement.\n",
    "\n",
    "early_stop = keras.callbacks.EarlyStopping(monitor='val_loss',patience=20)\n",
    "history = model.fit(train_data, train_labels, epochs=EPOCHS,\n",
    "                   validation_split=0.2, verbose=0,\n",
    "                   callbacks = [early_stop,PrintDot()])\n",
    "plot_history(history)"
   ]
  },
  {
   "cell_type": "code",
   "execution_count": 21,
   "metadata": {},
   "outputs": [
    {
     "name": "stdout",
     "output_type": "stream",
     "text": [
      "Testing set mean abs error: $2719.60\n"
     ]
    }
   ],
   "source": [
    "## see how the model performs on the test data\n",
    "[loss, mae] = model.evaluate(test_data,test_labels, verbose=0)\n",
    "print('Testing set mean abs error: ${:7.2f}'.format(mae*1000))"
   ]
  },
  {
   "cell_type": "code",
   "execution_count": 22,
   "metadata": {},
   "outputs": [
    {
     "name": "stdout",
     "output_type": "stream",
     "text": [
      "[ 7.8921223 19.046412  21.22845   34.67466   25.4912    21.654041\n",
      " 24.912382  22.581444  19.684025  21.874458  16.887802  16.033705\n",
      " 15.906145  41.791378  18.436367  19.94329   26.734543  18.199469\n",
      " 19.013868  24.824389  10.909732  13.117516  21.126839  15.7946205\n",
      " 19.53372   25.1562    29.886791  28.492935   9.815106  20.668865\n",
      " 20.135609  13.795497  33.043922  25.19226   15.851385   8.160337\n",
      " 17.004536  17.45074   18.21305   25.222378  29.620338  28.160494\n",
      " 12.545248  40.928204  29.808498  25.914389  27.486893  17.849232\n",
      " 21.932495  22.394133  33.680027  21.489822  10.311902  16.00018\n",
      " 34.152615  27.58916   11.0292425 47.628452  34.618534  23.624376\n",
      " 23.414066  14.927137  13.47701   19.407787  22.962679  21.519981\n",
      " 12.59929   22.406357  12.165911   7.012865  24.932457  29.490385\n",
      " 26.852882  12.799355  25.113585  18.413025  20.051704  24.028107\n",
      " 35.94663    9.6223955 21.179062  37.478508  16.622292  12.479809\n",
      " 17.173094  19.06555   18.445957  21.549583  20.553768  32.083477\n",
      " 21.791718  19.805971  24.941612  39.6136    36.57962   20.474493\n",
      " 35.24608   47.985294  26.723644  46.17016   31.30465   19.201027 ]\n"
     ]
    }
   ],
   "source": [
    "# finally predict some housing prices using data in testing set\n",
    "\n",
    "test_predictions = model.predict(test_data).flatten()\n",
    "print(test_predictions)"
   ]
  },
  {
   "cell_type": "code",
   "execution_count": null,
   "metadata": {},
   "outputs": [],
   "source": [
    "## early stopping technique p"
   ]
  }
 ],
 "metadata": {
  "kernelspec": {
   "display_name": "Python 3",
   "language": "python",
   "name": "python3"
  },
  "language_info": {
   "codemirror_mode": {
    "name": "ipython",
    "version": 3
   },
   "file_extension": ".py",
   "mimetype": "text/x-python",
   "name": "python",
   "nbconvert_exporter": "python",
   "pygments_lexer": "ipython3",
   "version": "3.6.5"
  }
 },
 "nbformat": 4,
 "nbformat_minor": 2
}
