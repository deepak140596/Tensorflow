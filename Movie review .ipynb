{
 "cells": [
  {
   "cell_type": "code",
   "execution_count": 1,
   "metadata": {},
   "outputs": [],
   "source": [
    "#s Classify movies reviews from IMDB\n",
    "## Import tensorflow and keras\n",
    "## import numpy"
   ]
  },
  {
   "cell_type": "code",
   "execution_count": 2,
   "metadata": {},
   "outputs": [
    {
     "name": "stdout",
     "output_type": "stream",
     "text": [
      "1.9.0\n"
     ]
    }
   ],
   "source": [
    "import tensorflow as tf\n",
    "from tensorflow import keras\n",
    "import numpy as np\n",
    "\n",
    "print(tf.__version__)\n"
   ]
  },
  {
   "cell_type": "code",
   "execution_count": 5,
   "metadata": {},
   "outputs": [
    {
     "name": "stdout",
     "output_type": "stream",
     "text": [
      "Downloading data from https://s3.amazonaws.com/text-datasets/imdb.npz\n",
      "17465344/17464789 [==============================] - 224s 13us/step\n"
     ]
    }
   ],
   "source": [
    "## download the imdb dataset\n",
    "imdb = keras.datasets.imdb\n",
    "(train_data, train_labels),(test_data,test_labels) = imdb.load_data(num_words=10000)"
   ]
  },
  {
   "cell_type": "code",
   "execution_count": 8,
   "metadata": {},
   "outputs": [],
   "source": [
    "# num_words=10000 keeps the top 10000 most frequently occuring words in the \n",
    "# training data.\n",
    "\n",
    "\n",
    "#print the number of entries in test and train test"
   ]
  },
  {
   "cell_type": "code",
   "execution_count": 9,
   "metadata": {},
   "outputs": [
    {
     "name": "stdout",
     "output_type": "stream",
     "text": [
      "training entries: 25000, labels: 25000\n"
     ]
    }
   ],
   "source": [
    "print(\"training entries: {}, labels: {}\".format(len(train_data),len(train_labels)))"
   ]
  },
  {
   "cell_type": "code",
   "execution_count": 11,
   "metadata": {},
   "outputs": [
    {
     "name": "stdout",
     "output_type": "stream",
     "text": [
      "[1, 14, 22, 16, 43, 530, 973, 1622, 1385, 65, 458, 4468, 66, 3941, 4, 173, 36, 256, 5, 25, 100, 43, 838, 112, 50, 670, 2, 9, 35, 480, 284, 5, 150, 4, 172, 112, 167, 2, 336, 385, 39, 4, 172, 4536, 1111, 17, 546, 38, 13, 447, 4, 192, 50, 16, 6, 147, 2025, 19, 14, 22, 4, 1920, 4613, 469, 4, 22, 71, 87, 12, 16, 43, 530, 38, 76, 15, 13, 1247, 4, 22, 17, 515, 17, 12, 16, 626, 18, 2, 5, 62, 386, 12, 8, 316, 8, 106, 5, 4, 2223, 5244, 16, 480, 66, 3785, 33, 4, 130, 12, 16, 38, 619, 5, 25, 124, 51, 36, 135, 48, 25, 1415, 33, 6, 22, 12, 215, 28, 77, 52, 5, 14, 407, 16, 82, 2, 8, 4, 107, 117, 5952, 15, 256, 4, 2, 7, 3766, 5, 723, 36, 71, 43, 530, 476, 26, 400, 317, 46, 7, 4, 2, 1029, 13, 104, 88, 4, 381, 15, 297, 98, 32, 2071, 56, 26, 141, 6, 194, 7486, 18, 4, 226, 22, 21, 134, 476, 26, 480, 5, 144, 30, 5535, 18, 51, 36, 28, 224, 92, 25, 104, 4, 226, 65, 16, 38, 1334, 88, 12, 16, 283, 5, 16, 4472, 113, 103, 32, 15, 16, 5345, 19, 178, 32]\n"
     ]
    }
   ],
   "source": [
    "#each integer represents a different word. Text of reviews are converted to integers\n",
    "print(train_data[0])"
   ]
  },
  {
   "cell_type": "code",
   "execution_count": 12,
   "metadata": {},
   "outputs": [],
   "source": [
    "#Show number of words in 1st and 2nd review"
   ]
  },
  {
   "cell_type": "code",
   "execution_count": 15,
   "metadata": {},
   "outputs": [
    {
     "data": {
      "text/plain": [
       "(218, 189)"
      ]
     },
     "execution_count": 15,
     "metadata": {},
     "output_type": "execute_result"
    }
   ],
   "source": [
    "(len(train_data[0]), len(train_data[1]))"
   ]
  },
  {
   "cell_type": "code",
   "execution_count": 16,
   "metadata": {},
   "outputs": [],
   "source": [
    "## Convert integers back to word with help of word_index \n"
   ]
  },
  {
   "cell_type": "code",
   "execution_count": 17,
   "metadata": {
    "scrolled": true
   },
   "outputs": [
    {
     "name": "stdout",
     "output_type": "stream",
     "text": [
      "Downloading data from https://s3.amazonaws.com/text-datasets/imdb_word_index.json\n",
      "1646592/1641221 [==============================] - 15s 9us/step\n"
     ]
    }
   ],
   "source": [
    "#dictionary mapping words to an integer indes\n",
    "word_index = imdb.get_word_index()\n",
    "\n",
    "#the first indices are reserved\n",
    "word_index = {k:(v+3) for k,v in word_index.items()}\n",
    "word_index[\"<PAD>\"] =0\n",
    "word_index[\"<START\"] =1\n",
    "word_index[\"<UNK>\"]=2 #unknown\n",
    "word_index[\"<UNUSED>\"] = 3\n",
    "\n",
    "reverse_word_index = dict([(value,key) for (key,value) in word_index.items()])\n",
    "def decode_review(text):\n",
    "    return ' '.join([reverse_word_index.get(i,'?') for i in text])"
   ]
  },
  {
   "cell_type": "code",
   "execution_count": 18,
   "metadata": {},
   "outputs": [
    {
     "data": {
      "text/plain": [
       "\"<START this film was just brilliant casting location scenery story direction everyone's really suited the part they played and you could just imagine being there robert <UNK> is an amazing actor and now the same being director <UNK> father came from the same scottish island as myself so i loved the fact there was a real connection with this film the witty remarks throughout the film were great it was just brilliant so much that i bought the film as soon as it was released for <UNK> and would recommend it to everyone to watch and the fly fishing was amazing really cried at the end it was so sad and you know what they say if you cry at a film it must have been good and this definitely was also <UNK> to the two little boy's that played the <UNK> of norman and paul they were just brilliant children are often left out of the <UNK> list i think because the stars that play them all grown up are such a big profile for the whole film but these children are amazing and should be praised for what they have done don't you think the whole story was so lovely because it was true and was someone's life after all that was shared with us all\""
      ]
     },
     "execution_count": 18,
     "metadata": {},
     "output_type": "execute_result"
    }
   ],
   "source": [
    "decode_review(train_data[0])"
   ]
  },
  {
   "cell_type": "code",
   "execution_count": 19,
   "metadata": {},
   "outputs": [
    {
     "data": {
      "text/plain": [
       "\"<START big hair big boobs bad music and a giant safety pin these are the words to best describe this terrible movie i love cheesy horror movies and i've seen hundreds but this had got to be on of the worst ever made the plot is paper thin and ridiculous the acting is an abomination the script is completely laughable the best is the end showdown with the cop and how he worked out who the killer is it's just so damn terribly written the clothes are sickening and funny in equal <UNK> the hair is big lots of boobs <UNK> men wear those cut <UNK> shirts that show off their <UNK> sickening that men actually wore them and the music is just <UNK> trash that plays over and over again in almost every scene there is trashy music boobs and <UNK> taking away bodies and the gym still doesn't close for <UNK> all joking aside this is a truly bad film whose only charm is to look back on the disaster that was the 80's and have a good old laugh at how bad everything was back then\""
      ]
     },
     "execution_count": 19,
     "metadata": {},
     "output_type": "execute_result"
    }
   ],
   "source": [
    "decode_review(train_data[1])"
   ]
  },
  {
   "cell_type": "code",
   "execution_count": 20,
   "metadata": {},
   "outputs": [
    {
     "data": {
      "text/plain": [
       "\"<START this film requires a lot of patience because it focuses on mood and character development the plot is very simple and many of the scenes take place on the same set in frances <UNK> the sandy dennis character apartment but the film builds to a disturbing climax br br the characters create an atmosphere <UNK> with sexual tension and psychological <UNK> it's very interesting that robert altman directed this considering the style and structure of his other films still the trademark altman audio style is evident here and there i think what really makes this film work is the brilliant performance by sandy dennis it's definitely one of her darker characters but she plays it so perfectly and convincingly that it's scary michael burns does a good job as the mute young man regular altman player michael murphy has a small part the <UNK> moody set fits the content of the story very well in short this movie is a powerful study of loneliness sexual <UNK> and desperation be patient <UNK> up the atmosphere and pay attention to the wonderfully written script br br i praise robert altman this is one of his many films that deals with unconventional fascinating subject matter this film is disturbing but it's sincere and it's sure to <UNK> a strong emotional response from the viewer if you want to see an unusual film some might even say bizarre this is worth the time br br unfortunately it's very difficult to find in video stores you may have to buy it off the internet\""
      ]
     },
     "execution_count": 20,
     "metadata": {},
     "output_type": "execute_result"
    }
   ],
   "source": [
    "decode_review(test_data[1])"
   ]
  },
  {
   "cell_type": "code",
   "execution_count": 25,
   "metadata": {},
   "outputs": [],
   "source": [
    "## Prepare the data\n",
    "# pad the data (max_len = 256)"
   ]
  },
  {
   "cell_type": "code",
   "execution_count": 24,
   "metadata": {},
   "outputs": [],
   "source": [
    "train_data = keras.preprocessing.sequence.pad_sequences(train_data,\n",
    "                                                      value= word_index[\"<PAD>\"],\n",
    "                                                      padding='post',\n",
    "                                                      maxlen=256)\n",
    "test_data = keras.preprocessing.sequence.pad_sequences(test_data,\n",
    "                                                       value=word_index[\"<PAD>\"],\n",
    "                                                       padding = 'post',\n",
    "                                                       maxlen=256)\n"
   ]
  },
  {
   "cell_type": "code",
   "execution_count": 26,
   "metadata": {},
   "outputs": [
    {
     "data": {
      "text/plain": [
       "256"
      ]
     },
     "execution_count": 26,
     "metadata": {},
     "output_type": "execute_result"
    }
   ],
   "source": [
    "len(train_data[0])\n",
    "len(test_data[1])"
   ]
  },
  {
   "cell_type": "code",
   "execution_count": 27,
   "metadata": {},
   "outputs": [
    {
     "data": {
      "text/plain": [
       "256"
      ]
     },
     "execution_count": 27,
     "metadata": {},
     "output_type": "execute_result"
    }
   ],
   "source": [
    "len(train_data[1])"
   ]
  },
  {
   "cell_type": "code",
   "execution_count": 28,
   "metadata": {},
   "outputs": [
    {
     "name": "stdout",
     "output_type": "stream",
     "text": [
      "[   1   14   22   16   43  530  973 1622 1385   65  458 4468   66 3941\n",
      "    4  173   36  256    5   25  100   43  838  112   50  670    2    9\n",
      "   35  480  284    5  150    4  172  112  167    2  336  385   39    4\n",
      "  172 4536 1111   17  546   38   13  447    4  192   50   16    6  147\n",
      " 2025   19   14   22    4 1920 4613  469    4   22   71   87   12   16\n",
      "   43  530   38   76   15   13 1247    4   22   17  515   17   12   16\n",
      "  626   18    2    5   62  386   12    8  316    8  106    5    4 2223\n",
      " 5244   16  480   66 3785   33    4  130   12   16   38  619    5   25\n",
      "  124   51   36  135   48   25 1415   33    6   22   12  215   28   77\n",
      "   52    5   14  407   16   82    2    8    4  107  117 5952   15  256\n",
      "    4    2    7 3766    5  723   36   71   43  530  476   26  400  317\n",
      "   46    7    4    2 1029   13  104   88    4  381   15  297   98   32\n",
      " 2071   56   26  141    6  194 7486   18    4  226   22   21  134  476\n",
      "   26  480    5  144   30 5535   18   51   36   28  224   92   25  104\n",
      "    4  226   65   16   38 1334   88   12   16  283    5   16 4472  113\n",
      "  103   32   15   16 5345   19  178   32    0    0    0    0    0    0\n",
      "    0    0    0    0    0    0    0    0    0    0    0    0    0    0\n",
      "    0    0    0    0    0    0    0    0    0    0    0    0    0    0\n",
      "    0    0    0    0]\n"
     ]
    }
   ],
   "source": [
    "print(train_data[0])"
   ]
  },
  {
   "cell_type": "code",
   "execution_count": 29,
   "metadata": {},
   "outputs": [],
   "source": [
    "## Build the model\n"
   ]
  },
  {
   "cell_type": "code",
   "execution_count": 30,
   "metadata": {},
   "outputs": [],
   "source": [
    "#input size is vocabulary count used for the movie reviews(10000 words)"
   ]
  },
  {
   "cell_type": "code",
   "execution_count": 31,
   "metadata": {},
   "outputs": [
    {
     "name": "stdout",
     "output_type": "stream",
     "text": [
      "_________________________________________________________________\n",
      "Layer (type)                 Output Shape              Param #   \n",
      "=================================================================\n",
      "embedding (Embedding)        (None, None, 16)          160000    \n",
      "_________________________________________________________________\n",
      "global_average_pooling1d (Gl (None, 16)                0         \n",
      "_________________________________________________________________\n",
      "dense (Dense)                (None, 16)                272       \n",
      "_________________________________________________________________\n",
      "dense_1 (Dense)              (None, 1)                 17        \n",
      "=================================================================\n",
      "Total params: 160,289\n",
      "Trainable params: 160,289\n",
      "Non-trainable params: 0\n",
      "_________________________________________________________________\n"
     ]
    }
   ],
   "source": [
    "vocab_size = 10000\n",
    "\n",
    "model = keras.Sequential()\n",
    "model.add(keras.layers.Embedding(vocab_size,16))\n",
    "model.add(keras.layers.GlobalAveragePooling1D())\n",
    "model.add(keras.layers.Dense(16,activation=tf.nn.relu))\n",
    "model.add(keras.layers.Dense(1,activation= tf.nn.sigmoid))\n",
    "\n",
    "model.summary()"
   ]
  },
  {
   "cell_type": "code",
   "execution_count": 32,
   "metadata": {},
   "outputs": [],
   "source": [
    "#Loss function and optimizer\n"
   ]
  },
  {
   "cell_type": "code",
   "execution_count": 33,
   "metadata": {},
   "outputs": [],
   "source": [
    "model.compile(optimizer=tf.train.AdamOptimizer(),\n",
    "             loss='binary_crossentropy',\n",
    "             metrics=['accuracy'])"
   ]
  },
  {
   "cell_type": "code",
   "execution_count": 35,
   "metadata": {},
   "outputs": [],
   "source": [
    "## Create a cross-validation set\n",
    "\n",
    "x_val = train_data[:10000]\n",
    "partial_x_train =train_data[10000:]\n",
    "\n",
    "y_val=train_labels[:10000]\n",
    "partial_y_train = train_labels[10000:]"
   ]
  },
  {
   "cell_type": "code",
   "execution_count": 36,
   "metadata": {},
   "outputs": [
    {
     "name": "stdout",
     "output_type": "stream",
     "text": [
      "Train on 15000 samples, validate on 10000 samples\n",
      "Epoch 1/40\n",
      "15000/15000 [==============================] - 2s 108us/step - loss: 0.7083 - acc: 0.5130 - val_loss: 0.6917 - val_acc: 0.5182\n",
      "Epoch 2/40\n",
      "15000/15000 [==============================] - 1s 86us/step - loss: 0.6902 - acc: 0.5393 - val_loss: 0.6886 - val_acc: 0.5716\n",
      "Epoch 3/40\n",
      "15000/15000 [==============================] - 1s 85us/step - loss: 0.6864 - acc: 0.6067 - val_loss: 0.6856 - val_acc: 0.6104\n",
      "Epoch 4/40\n",
      "15000/15000 [==============================] - 1s 86us/step - loss: 0.6828 - acc: 0.6770 - val_loss: 0.6820 - val_acc: 0.6495\n",
      "Epoch 5/40\n",
      "15000/15000 [==============================] - 1s 87us/step - loss: 0.6785 - acc: 0.6779 - val_loss: 0.6776 - val_acc: 0.7286\n",
      "Epoch 6/40\n",
      "15000/15000 [==============================] - 1s 87us/step - loss: 0.6734 - acc: 0.7581 - val_loss: 0.6725 - val_acc: 0.7499\n",
      "Epoch 7/40\n",
      "15000/15000 [==============================] - 1s 96us/step - loss: 0.6671 - acc: 0.7659 - val_loss: 0.6664 - val_acc: 0.7351\n",
      "Epoch 8/40\n",
      "15000/15000 [==============================] - 1s 89us/step - loss: 0.6591 - acc: 0.7658 - val_loss: 0.6580 - val_acc: 0.7502\n",
      "Epoch 9/40\n",
      "15000/15000 [==============================] - 1s 88us/step - loss: 0.6489 - acc: 0.7730 - val_loss: 0.6476 - val_acc: 0.7582\n",
      "Epoch 10/40\n",
      "15000/15000 [==============================] - 1s 87us/step - loss: 0.6362 - acc: 0.7835 - val_loss: 0.6347 - val_acc: 0.7674\n",
      "Epoch 11/40\n",
      "15000/15000 [==============================] - 1s 96us/step - loss: 0.6211 - acc: 0.7771 - val_loss: 0.6194 - val_acc: 0.7739\n",
      "Epoch 12/40\n",
      "15000/15000 [==============================] - 1s 87us/step - loss: 0.6025 - acc: 0.7925 - val_loss: 0.6015 - val_acc: 0.7793\n",
      "Epoch 13/40\n",
      "15000/15000 [==============================] - 1s 93us/step - loss: 0.5812 - acc: 0.8009 - val_loss: 0.5827 - val_acc: 0.7824\n",
      "Epoch 14/40\n",
      "15000/15000 [==============================] - 1s 95us/step - loss: 0.5583 - acc: 0.8083 - val_loss: 0.5605 - val_acc: 0.7950\n",
      "Epoch 15/40\n",
      "15000/15000 [==============================] - 1s 92us/step - loss: 0.5337 - acc: 0.8171 - val_loss: 0.5373 - val_acc: 0.8031\n",
      "Epoch 16/40\n",
      "15000/15000 [==============================] - 1s 88us/step - loss: 0.5086 - acc: 0.8273 - val_loss: 0.5148 - val_acc: 0.8078\n",
      "Epoch 17/40\n",
      "15000/15000 [==============================] - 1s 95us/step - loss: 0.4829 - acc: 0.8394 - val_loss: 0.4923 - val_acc: 0.8209\n",
      "Epoch 18/40\n",
      "15000/15000 [==============================] - 1s 88us/step - loss: 0.4581 - acc: 0.8495 - val_loss: 0.4706 - val_acc: 0.8292\n",
      "Epoch 19/40\n",
      "15000/15000 [==============================] - 1s 95us/step - loss: 0.4345 - acc: 0.8568 - val_loss: 0.4503 - val_acc: 0.8355\n",
      "Epoch 20/40\n",
      "15000/15000 [==============================] - 1s 88us/step - loss: 0.4126 - acc: 0.8647 - val_loss: 0.4319 - val_acc: 0.8402\n",
      "Epoch 21/40\n",
      "15000/15000 [==============================] - 1s 88us/step - loss: 0.3919 - acc: 0.8708 - val_loss: 0.4148 - val_acc: 0.8469\n",
      "Epoch 22/40\n",
      "15000/15000 [==============================] - 1s 93us/step - loss: 0.3733 - acc: 0.8765 - val_loss: 0.3998 - val_acc: 0.8508\n",
      "Epoch 23/40\n",
      "15000/15000 [==============================] - 1s 88us/step - loss: 0.3566 - acc: 0.8813 - val_loss: 0.3867 - val_acc: 0.8546\n",
      "Epoch 24/40\n",
      "15000/15000 [==============================] - 1s 94us/step - loss: 0.3411 - acc: 0.8868 - val_loss: 0.3748 - val_acc: 0.8560\n",
      "Epoch 25/40\n",
      "15000/15000 [==============================] - 2s 107us/step - loss: 0.3273 - acc: 0.8902 - val_loss: 0.3645 - val_acc: 0.8605\n",
      "Epoch 26/40\n",
      "15000/15000 [==============================] - 2s 111us/step - loss: 0.3149 - acc: 0.8931 - val_loss: 0.3554 - val_acc: 0.8639\n",
      "Epoch 27/40\n",
      "15000/15000 [==============================] - 2s 105us/step - loss: 0.3038 - acc: 0.8956 - val_loss: 0.3473 - val_acc: 0.8672\n",
      "Epoch 28/40\n",
      "15000/15000 [==============================] - 2s 110us/step - loss: 0.2931 - acc: 0.8993 - val_loss: 0.3402 - val_acc: 0.8689\n",
      "Epoch 29/40\n",
      "15000/15000 [==============================] - 2s 103us/step - loss: 0.2836 - acc: 0.9020 - val_loss: 0.3341 - val_acc: 0.8710\n",
      "Epoch 30/40\n",
      "15000/15000 [==============================] - 2s 103us/step - loss: 0.2752 - acc: 0.9030 - val_loss: 0.3286 - val_acc: 0.8715\n",
      "Epoch 31/40\n",
      "15000/15000 [==============================] - 2s 113us/step - loss: 0.2665 - acc: 0.9065 - val_loss: 0.3237 - val_acc: 0.8739\n",
      "Epoch 32/40\n",
      "15000/15000 [==============================] - 2s 104us/step - loss: 0.2592 - acc: 0.9082 - val_loss: 0.3193 - val_acc: 0.8746\n",
      "Epoch 33/40\n",
      "15000/15000 [==============================] - 2s 108us/step - loss: 0.2517 - acc: 0.9107 - val_loss: 0.3156 - val_acc: 0.8771\n",
      "Epoch 34/40\n",
      "15000/15000 [==============================] - 2s 113us/step - loss: 0.2448 - acc: 0.9140 - val_loss: 0.3119 - val_acc: 0.8791\n",
      "Epoch 35/40\n",
      "15000/15000 [==============================] - 2s 113us/step - loss: 0.2388 - acc: 0.9153 - val_loss: 0.3086 - val_acc: 0.8799\n",
      "Epoch 36/40\n",
      "15000/15000 [==============================] - 2s 135us/step - loss: 0.2322 - acc: 0.9189 - val_loss: 0.3060 - val_acc: 0.8812\n",
      "Epoch 37/40\n",
      "15000/15000 [==============================] - 2s 111us/step - loss: 0.2265 - acc: 0.9215 - val_loss: 0.3038 - val_acc: 0.8804\n",
      "Epoch 38/40\n",
      "15000/15000 [==============================] - 2s 113us/step - loss: 0.2210 - acc: 0.9225 - val_loss: 0.3008 - val_acc: 0.8818\n",
      "Epoch 39/40\n",
      "15000/15000 [==============================] - 2s 110us/step - loss: 0.2154 - acc: 0.9253 - val_loss: 0.2989 - val_acc: 0.8831\n",
      "Epoch 40/40\n",
      "15000/15000 [==============================] - 2s 130us/step - loss: 0.2103 - acc: 0.9257 - val_loss: 0.2967 - val_acc: 0.8828\n"
     ]
    }
   ],
   "source": [
    "## Train the model\n",
    "\n",
    "history = model.fit(partial_x_train,\n",
    "                   partial_y_train,\n",
    "                   epochs=40,\n",
    "                   batch_size=512,\n",
    "                   validation_data=(x_val,y_val),\n",
    "                   verbose=1)"
   ]
  },
  {
   "cell_type": "code",
   "execution_count": 37,
   "metadata": {},
   "outputs": [
    {
     "name": "stdout",
     "output_type": "stream",
     "text": [
      "25000/25000 [==============================] - 1s 25us/step\n"
     ]
    }
   ],
   "source": [
    "results = model.evaluate(test_data,test_labels)"
   ]
  },
  {
   "cell_type": "code",
   "execution_count": 38,
   "metadata": {},
   "outputs": [
    {
     "name": "stdout",
     "output_type": "stream",
     "text": [
      "[0.3115515372657776, 0.87144]\n"
     ]
    }
   ],
   "source": [
    "print(results)"
   ]
  },
  {
   "cell_type": "code",
   "execution_count": 39,
   "metadata": {},
   "outputs": [
    {
     "data": {
      "text/plain": [
       "dict_keys(['val_loss', 'val_acc', 'loss', 'acc'])"
      ]
     },
     "execution_count": 39,
     "metadata": {},
     "output_type": "execute_result"
    }
   ],
   "source": [
    "# Create a graph of accuracy and loss over time\n",
    "\n",
    "history_dict = history.history\n",
    "history_dict.keys()"
   ]
  },
  {
   "cell_type": "code",
   "execution_count": 40,
   "metadata": {},
   "outputs": [],
   "source": [
    "import matplotlib.pyplot as plt\n"
   ]
  },
  {
   "cell_type": "code",
   "execution_count": 41,
   "metadata": {},
   "outputs": [],
   "source": [
    "acc = history.history['acc']\n",
    "val_acc= history.history['val_acc']\n",
    "loss = history.history['loss']\n",
    "val_loss = history.history['val_loss']"
   ]
  },
  {
   "cell_type": "code",
   "execution_count": 42,
   "metadata": {},
   "outputs": [
    {
     "data": {
      "image/png": "[encoded data removed]",
      "text/plain": [
       "<Figure size 432x288 with 1 Axes>"
      ]
     },
     "metadata": {},
     "output_type": "display_data"
    }
   ],
   "source": [
    "epochs = range(1,len(acc) +1)\n",
    "\n",
    "# \"bo\" is for bleu dot\n",
    "plt.plot(epochs,loss,'bo',label='Training losss')\n",
    "#b is for 'solid blue line'\n",
    "plt.plot(epochs,val_loss,'b', label='Validation loss')\n",
    "plt.title('Training and validation loss')\n",
    "plt.xlabel('Epochs')\n",
    "plt.ylabel('Loss')\n",
    "plt.legend()\n",
    "\n",
    "plt.show()"
   ]
  },
  {
   "cell_type": "code",
   "execution_count": 43,
   "metadata": {},
   "outputs": [
    {
     "data": {
      "text/plain": [
       "<Figure size 432x288 with 0 Axes>"
      ]
     },
     "metadata": {},
     "output_type": "display_data"
    }
   ],
   "source": [
    "plt.clf()"
   ]
  },
  {
   "cell_type": "code",
   "execution_count": 44,
   "metadata": {},
   "outputs": [
    {
     "data": {
      "image/png": "[encoded data removed]",
      "text/plain": [
       "<Figure size 432x288 with 1 Axes>"
      ]
     },
     "metadata": {},
     "output_type": "display_data"
    }
   ],
   "source": [
    "acc_values  = history_dict['acc']\n",
    "val_acc_values = history_dict['val_acc']\n",
    "\n",
    "plt.plot(epochs,acc,'bo', label='Training acc')\n",
    "plt.plot(epochs,val_acc,'b',label='Validation acc')\n",
    "plt.title('Training and validation accuracy')\n",
    "plt.xlabel('Epochs')\n",
    "plt.ylabel('Accuracy')\n",
    "plt.legend()\n",
    "plt.show()"
   ]
  },
  {
   "cell_type": "code",
   "execution_count": null,
   "metadata": {},
   "outputs": [],
   "source": []
  }
 ],
 "metadata": {
  "kernelspec": {
   "display_name": "Python 3",
   "language": "python",
   "name": "python3"
  },
  "language_info": {
   "codemirror_mode": {
    "name": "ipython",
    "version": 3
   },
   "file_extension": ".py",
   "mimetype": "text/x-python",
   "name": "python",
   "nbconvert_exporter": "python",
   "pygments_lexer": "ipython3",
   "version": "3.6.5"
  }
 },
 "nbformat": 4,
 "nbformat_minor": 2
}
